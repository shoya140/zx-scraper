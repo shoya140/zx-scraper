{
 "metadata": {
  "name": "",
  "signature": "sha256:9c2321ff7e7ecbcbb75dfd85d62128c89ddcfc1263507c03cdeaadb80923b01f"
 },
 "nbformat": 3,
 "nbformat_minor": 0,
 "worksheets": [
  {
   "cells": [
    {
     "cell_type": "code",
     "collapsed": false,
     "input": [
      "#coding: utf-8\n",
      "\n",
      "import json\n",
      "import urllib\n",
      "import BeautifulSoup\n",
      "from multiprocessing import Pool"
     ],
     "language": "python",
     "metadata": {},
     "outputs": [],
     "prompt_number": 1
    },
    {
     "cell_type": "code",
     "collapsed": false,
     "input": [
      "def scrape(url):\n",
      "    html = urllib.urlopen(url)\n",
      "    soup = BeautifulSoup.BeautifulSoup(html)\n",
      "    contents = soup.find('div', attrs={'id':'contents'})\n",
      "    if contents:\n",
      "        title = soup.find('title').text.encode('utf-8')\n",
      "        tagBase = soup.find('ul', attrs={'class':'tag_icon'})\n",
      "        if tagBase:\n",
      "            tags = [tag.text.encode('utf-8') for tag in tagBase.findAll('li')]\n",
      "            content = contents.text.encode('utf-8')\n",
      "            return {'url':url, 'title': title, 'contents':content, 'tags': tags}"
     ],
     "language": "python",
     "metadata": {},
     "outputs": [],
     "prompt_number": 2
    },
    {
     "cell_type": "code",
     "collapsed": false,
     "input": [
      "urls = ['http://zexy.net/article/app%09d' %i for i in range(0, 2000)]\n",
      "pl = Pool()\n",
      "%time sc = pl.map(scrape, urls)\n",
      "data = [s for s in sc if s]\n",
      "pl.terminate()\n",
      "print \"exported %d articles\" %len(data)"
     ],
     "language": "python",
     "metadata": {},
     "outputs": [
      {
       "output_type": "stream",
       "stream": "stdout",
       "text": [
        "CPU times: user 100 ms, sys: 29.6 ms, total: 130 ms\n",
        "Wall time: 1min 31s\n",
        "exported 159 articles\n"
       ]
      }
     ],
     "prompt_number": 3
    },
    {
     "cell_type": "code",
     "collapsed": false,
     "input": [
      "f = open('out.json','w')\n",
      "f.write(json.dumps(data, ensure_ascii=False, indent=2))\n",
      "f.close()"
     ],
     "language": "python",
     "metadata": {},
     "outputs": [],
     "prompt_number": 6
    },
    {
     "cell_type": "code",
     "collapsed": false,
     "input": [],
     "language": "python",
     "metadata": {},
     "outputs": []
    }
   ],
   "metadata": {}
  }
 ]
}