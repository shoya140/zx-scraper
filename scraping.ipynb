{
 "metadata": {
  "name": "",
  "signature": "sha256:b4d8977b1e81350512a6884adde898825ef33183718cc8c9a22fdae8175abed0"
 },
 "nbformat": 3,
 "nbformat_minor": 0,
 "worksheets": [
  {
   "cells": [
    {
     "cell_type": "code",
     "collapsed": false,
     "input": [
      "#coding: utf-8\n",
      "\n",
      "import json\n",
      "import urllib\n",
      "from bs4 import BeautifulSoup\n",
      "from multiprocessing import Pool\n",
      "\n",
      "base_url = 'http://zexy.net'"
     ],
     "language": "python",
     "metadata": {},
     "outputs": [],
     "prompt_number": 1
    },
    {
     "cell_type": "code",
     "collapsed": false,
     "input": [
      "def clean(string):\n",
      "    return string.strip().replace('\\n', '').replace('\\t', '').encode('utf-8')\n",
      "\n",
      "def scrape(url):\n",
      "    html = urllib.urlopen(url)\n",
      "    soup = BeautifulSoup(html)\n",
      "    contents = soup.find('div', attrs={'id':'contents'})\n",
      "    if not contents:\n",
      "        return\n",
      "    \n",
      "    # main\n",
      "    main = soup.find('article',attrs={'id':'h1_box'})\n",
      "    title = main.find('h1')\n",
      "    description = main.find('p')\n",
      "    data = {\n",
      "        'url': url,\n",
      "        'title': clean(title.text),\n",
      "        'description': clean(description.text)\n",
      "    }\n",
      "    image_section = main.find('section', attrs={'class':'main_img'})\n",
      "    if image_section:\n",
      "        image = image_section.find('img')\n",
      "        data.update({'image': clean(base_url + image['src'])})\n",
      "\n",
      "    # tags\n",
      "    tag = soup.find('ul', attrs={'class':'tag_icon'})\n",
      "    if tag:\n",
      "        tags = tag.findAll('li')\n",
      "        data.update({'tags':[clean(x.text) for x in tags]})\n",
      "    else:\n",
      "        data.update({'tags':[]})\n",
      "        #http://zexy.net/article/app000000791/\n",
      "    \n",
      "    # articles\n",
      "    articles = soup.findAll('article', attrs={'class':['', 'no_s']})\n",
      "    da = []\n",
      "    for article in articles:\n",
      "        d = {}\n",
      "        title = article.find('h2')\n",
      "        if title:\n",
      "            d.update({'title': clean(title.text)})\n",
      "        images = article.findAll('img')\n",
      "        if images: \n",
      "            d.update({'images':[clean(base_url + x['src']) for x in images]})\n",
      "        photo_read = article.find('p', attrs={'class':'photo_read'})\n",
      "        if photo_read:\n",
      "            d.update({'photo_read': clean(photo_read.text)})\n",
      "        price = article.find('section', attrs={'class':'price'})\n",
      "        if price:\n",
      "            d.update({'price': clean(price.text)})\n",
      "        text = article.find('p', attrs={'class':'item1_text'})\n",
      "        if text: \n",
      "            d.update({'text': clean(text.text)})\n",
      "        column = article.find('section', attrs={'class':'column'})\n",
      "        if column: \n",
      "            d.update({'column': clean(column.text)})\n",
      "        da.append(d)\n",
      "    data.update({'articles':da})\n",
      "\n",
      "    return data"
     ],
     "language": "python",
     "metadata": {},
     "outputs": [],
     "prompt_number": 16
    },
    {
     "cell_type": "raw",
     "metadata": {},
     "source": [
      "urls = ['http://zexy.net/article/app%09d' %i for i in range(1500, 1600)]\n",
      "pl = Pool()\n",
      "%time sc = pl.map(scrape, urls)\n",
      "data = [s for s in sc if s]\n",
      "pl.terminate()\n",
      "print \"exported %d articles\" % len(data)"
     ]
    },
    {
     "cell_type": "raw",
     "metadata": {},
     "source": [
      "f = open('out.json','w')\n",
      "f.write(json.dumps(data, ensure_ascii=False, indent=2))\n",
      "f.close()"
     ]
    },
    {
     "cell_type": "code",
     "collapsed": false,
     "input": [
      "import time\n",
      "\n",
      "for j in range(0, 16):\n",
      "    urls = ['http://zexy.net/article/app%09d' %i for i in range(j*100, j*100+100)]\n",
      "    pl = Pool()\n",
      "    %time sc = pl.map(scrape, urls)\n",
      "    data = [s for s in sc if s]\n",
      "    pl.terminate()\n",
      "    print \"----exported %d articles\" % len(data)\n",
      "    fname = 'out%i.json' %j\n",
      "    f = open(fname,'w')\n",
      "    f.write(json.dumps(data, ensure_ascii=False, indent=2))\n",
      "    f.close()\n",
      "    time.sleep(20)"
     ],
     "language": "python",
     "metadata": {},
     "outputs": [
      {
       "output_type": "stream",
       "stream": "stdout",
       "text": [
        "CPU times: user 114 ms, sys: 165 ms, total: 279 ms\n",
        "Wall time: 7.95 s\n",
        "----exported 3 articles"
       ]
      },
      {
       "output_type": "stream",
       "stream": "stdout",
       "text": [
        "\n"
       ]
      },
      {
       "output_type": "stream",
       "stream": "stdout",
       "text": [
        "CPU times: user 82.6 ms, sys: 114 ms, total: 197 ms\n",
        "Wall time: 6.4 s\n",
        "----exported 0 articles"
       ]
      },
      {
       "output_type": "stream",
       "stream": "stdout",
       "text": [
        "\n"
       ]
      },
      {
       "ename": "KeyboardInterrupt",
       "evalue": "",
       "output_type": "pyerr",
       "traceback": [
        "\u001b[0;31m---------------------------------------------------------------------------\u001b[0m\n\u001b[0;31mKeyboardInterrupt\u001b[0m                         Traceback (most recent call last)",
        "\u001b[0;32m<ipython-input-21-79ce75b67f2b>\u001b[0m in \u001b[0;36m<module>\u001b[0;34m()\u001b[0m\n\u001b[1;32m     12\u001b[0m     \u001b[0mf\u001b[0m\u001b[0;34m.\u001b[0m\u001b[0mwrite\u001b[0m\u001b[0;34m(\u001b[0m\u001b[0mjson\u001b[0m\u001b[0;34m.\u001b[0m\u001b[0mdumps\u001b[0m\u001b[0;34m(\u001b[0m\u001b[0mdata\u001b[0m\u001b[0;34m,\u001b[0m \u001b[0mensure_ascii\u001b[0m\u001b[0;34m=\u001b[0m\u001b[0mFalse\u001b[0m\u001b[0;34m,\u001b[0m \u001b[0mindent\u001b[0m\u001b[0;34m=\u001b[0m\u001b[0;36m2\u001b[0m\u001b[0;34m)\u001b[0m\u001b[0;34m)\u001b[0m\u001b[0;34m\u001b[0m\u001b[0m\n\u001b[1;32m     13\u001b[0m     \u001b[0mf\u001b[0m\u001b[0;34m.\u001b[0m\u001b[0mclose\u001b[0m\u001b[0;34m(\u001b[0m\u001b[0;34m)\u001b[0m\u001b[0;34m\u001b[0m\u001b[0m\n\u001b[0;32m---> 14\u001b[0;31m     \u001b[0mtime\u001b[0m\u001b[0;34m.\u001b[0m\u001b[0msleep\u001b[0m\u001b[0;34m(\u001b[0m\u001b[0;36m20\u001b[0m\u001b[0;34m)\u001b[0m\u001b[0;34m\u001b[0m\u001b[0m\n\u001b[0m",
        "\u001b[0;31mKeyboardInterrupt\u001b[0m: "
       ]
      }
     ],
     "prompt_number": 21
    },
    {
     "cell_type": "code",
     "collapsed": false,
     "input": [],
     "language": "python",
     "metadata": {},
     "outputs": []
    }
   ],
   "metadata": {}
  }
 ]
}