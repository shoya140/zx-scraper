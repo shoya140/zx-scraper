{
 "metadata": {
  "name": "",
  "signature": "sha256:5ce94b57974d51ee7d19b071cad3369cf501fada5ff13823294a5850eacf2cbf"
 },
 "nbformat": 3,
 "nbformat_minor": 0,
 "worksheets": [
  {
   "cells": [
    {
     "cell_type": "code",
     "collapsed": false,
     "input": [
      "#coding: utf-8\n",
      "\n",
      "import json\n",
      "import urllib\n",
      "from bs4 import BeautifulSoup\n",
      "from multiprocessing import Pool\n",
      "\n",
      "base_url = 'http://zexy.net'"
     ],
     "language": "python",
     "metadata": {},
     "outputs": [],
     "prompt_number": 1
    },
    {
     "cell_type": "code",
     "collapsed": false,
     "input": [
      "def clean(string):\n",
      "    return string.strip().replace('\\n', '').replace('\\t', '').encode('utf-8')\n",
      "\n",
      "def scrape(url):\n",
      "    html = urllib.urlopen(url)\n",
      "    soup = BeautifulSoup(html)\n",
      "    contents = soup.find('div', attrs={'id':'contents'})\n",
      "    if not contents:\n",
      "        return\n",
      "    \n",
      "    # main\n",
      "    main = soup.find('article',attrs={'id':'h1_box'})\n",
      "    title = main.find('h1')\n",
      "    description = main.find('p')\n",
      "    data = {\n",
      "        'url': url,\n",
      "        'title': clean(title.text),\n",
      "        'description': clean(description.text)\n",
      "    }\n",
      "    image_section = main.find('section', attrs={'class':'main_img'})\n",
      "    if image_section:\n",
      "        image = image_section.find('img')\n",
      "        data.update({'image': clean(base_url + image['src'])})\n",
      "\n",
      "    # tags\n",
      "    tag = soup.find('ul', attrs={'class':'tag_icon'})\n",
      "    tags = tag.findAll('li')\n",
      "    data.update({'tags':[clean(x.text) for x in tags]})\n",
      "    \n",
      "    # articles\n",
      "    articles = soup.findAll('article', attrs={'class':['', 'no_s']})\n",
      "    da = []\n",
      "    for article in articles:\n",
      "        d = {}\n",
      "        title = article.find('h2')\n",
      "        if title:\n",
      "            d.update({'title': clean(title.text)})\n",
      "        images = article.findAll('img')\n",
      "        if images: \n",
      "            d.update({'images':[clean(base_url + x['src']) for x in images]})\n",
      "        photo_read = article.find('p', attrs={'class':'photo_read'})\n",
      "        if photo_read:\n",
      "            d.update({'photo_read': clean(photo_read.text)})\n",
      "        price = article.find('section', attrs={'class':'price'})\n",
      "        if price:\n",
      "            d.update({'price': clean(price.text)})\n",
      "        text = article.find('p', attrs={'class':'item1_text'})\n",
      "        if text: \n",
      "            d.update({'text': clean(text.text)})\n",
      "        column = article.find('section', attrs={'class':'column'})\n",
      "        if column: \n",
      "            d.update({'column': clean(column.text)})\n",
      "        da.append(d)\n",
      "    data.update({'articles':da})\n",
      "\n",
      "    return data"
     ],
     "language": "python",
     "metadata": {},
     "outputs": [],
     "prompt_number": 2
    },
    {
     "cell_type": "code",
     "collapsed": false,
     "input": [
      "urls = ['http://zexy.net/article/app%09d' %i for i in range(0, 100)]\n",
      "pl = Pool()\n",
      "%time sc = pl.map(scrape, urls)\n",
      "data = [s for s in sc if s]\n",
      "pl.terminate()\n",
      "print \"exported %d articles\" % len(data)"
     ],
     "language": "python",
     "metadata": {},
     "outputs": [
      {
       "output_type": "stream",
       "stream": "stdout",
       "text": [
        "CPU times: user 8.74 ms, sys: 3.29 ms, total: 12 ms\n",
        "Wall time: 7.12 s\n",
        "exported 87 articles"
       ]
      },
      {
       "output_type": "stream",
       "stream": "stdout",
       "text": [
        "\n"
       ]
      }
     ],
     "prompt_number": 3
    },
    {
     "cell_type": "code",
     "collapsed": false,
     "input": [
      "f = open('out.json','w')\n",
      "f.write(json.dumps(data, ensure_ascii=False, indent=2))\n",
      "f.close()"
     ],
     "language": "python",
     "metadata": {},
     "outputs": [],
     "prompt_number": 4
    },
    {
     "cell_type": "code",
     "collapsed": false,
     "input": [],
     "language": "python",
     "metadata": {},
     "outputs": []
    }
   ],
   "metadata": {}
  }
 ]
}